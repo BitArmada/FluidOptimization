{
 "cells": [
  {
   "cell_type": "code",
   "execution_count": null,
   "id": "5f3dc165",
   "metadata": {
    "vscode": {
     "languageId": "plaintext"
    }
   },
   "outputs": [],
   "source": [
    "import torch\n",
    "import torch.nn as nn\n",
    "import torch.nn.functional as F\n",
    "from torch import nn, optim\n",
    "from torch.utils.data import TensorDataset, DataLoader, random_split\n",
    "from torchvision.transforms import Normalize\n",
    "import numpy as np\n",
    "import os, glob\n",
    "import matplotlib.pyplot as plt\n",
    "import matplotlib.animation as animation\n",
    "import json\n",
    "from scipy.ndimage import gaussian_filter\n",
    "import scipy"
   ]
  },
  {
   "cell_type": "code",
   "execution_count": null,
   "id": "e6705830",
   "metadata": {
    "vscode": {
     "languageId": "plaintext"
    }
   },
   "outputs": [],
   "source": [
    "class FluidForceCNN(nn.Module):\n",
    "    def __init__(self):\n",
    "        super(FluidForceCNN, self).__init__()\n",
    "        \n",
    "        self.conv_layers = nn.Sequential(\n",
    "            nn.Conv2d(1, 64, kernel_size=3, padding=1),  # input shape: (B, 1, 64, 128)\n",
    "            nn.ReLU(),\n",
    "\n",
    "            nn.Conv2d(64, 60, kernel_size=3, padding=1),\n",
    "            nn.ReLU(),\n",
    "\n",
    "            nn.Conv2d(60, 60, kernel_size=3, padding=1),\n",
    "            nn.ReLU(),\n",
    "\n",
    "            nn.Conv2d(60, 60, kernel_size=3, padding=1),\n",
    "            nn.ReLU(),\n",
    "\n",
    "            nn.Conv2d(60, 60, kernel_size=3, padding=1),\n",
    "            nn.ReLU(),\n",
    "\n",
    "            nn.Conv2d(60, 60, kernel_size=3, padding=1),\n",
    "            nn.ReLU(),\n",
    "\n",
    "            nn.Conv2d(60, 60, kernel_size=3, padding=1),\n",
    "            nn.ReLU(),\n",
    "\n",
    "            nn.Conv2d(60, 60, kernel_size=3, padding=1),\n",
    "            nn.ReLU(),\n",
    "\n",
    "            nn.Conv2d(60, 60, kernel_size=3, padding=1),\n",
    "            nn.ReLU(),\n",
    "\n",
    "            nn.Conv2d(60, 55, kernel_size=3, padding=1),\n",
    "            nn.ReLU(),\n",
    "\n",
    "            nn.Conv2d(55, 50, kernel_size=3, padding=1),\n",
    "            nn.ReLU(),\n",
    "\n",
    "            nn.Conv2d(50, 45, kernel_size=3, padding=1),\n",
    "            nn.ReLU(),\n",
    "\n",
    "            nn.Conv2d(45, 40, kernel_size=3, padding=1),\n",
    "            nn.ReLU(),\n",
    "\n",
    "            nn.Conv2d(40, 35, kernel_size=3, padding=1),\n",
    "            nn.ReLU(),\n",
    "\n",
    "            nn.Conv2d(35, 28, kernel_size=3, padding=1),\n",
    "            nn.ReLU(),\n",
    "\n",
    "            nn.Conv2d(28, 16, kernel_size=3, padding=1),\n",
    "            nn.ReLU(),\n",
    "\n",
    "            nn.Conv2d(16, 16, kernel_size=3, padding=1),\n",
    "            nn.ReLU(),\n",
    "\n",
    "            nn.Conv2d(16, 2, kernel_size=3, padding=1),  # final output layer\n",
    "            nn.Tanh()\n",
    "        )\n",
    "\n",
    "    def forward(self, x):\n",
    "        return self.conv_layers(x)"
   ]
  },
  {
   "cell_type": "code",
   "execution_count": null,
   "id": "8342c33e",
   "metadata": {
    "vscode": {
     "languageId": "plaintext"
    }
   },
   "outputs": [],
   "source": [
    "def evaluate_shape(shape_np, model, device='cpu'):\n",
    "    \"\"\"\n",
    "    Runs a (64, 128, 1) shape input through the model and returns the predicted output.\n",
    "\n",
    "    Parameters:\n",
    "        shape_np (np.ndarray): Input shape array of shape (64, 128, 1)\n",
    "        model (nn.Module): Trained PyTorch model\n",
    "        device (str): 'cpu' or 'cuda'\n",
    "\n",
    "    Returns:\n",
    "        output_np (np.ndarray): Output prediction, shape (64, 128, 3)\n",
    "    \"\"\"\n",
    "    model.eval()\n",
    "    model.to(device)\n",
    "\n",
    "    # Convert input: (64,128,1) → (1,1,64,128)\n",
    "    input_tensor = torch.tensor(shape_np.transpose(2, 0, 1), dtype=torch.float32).unsqueeze(0).to(device)\n",
    "\n",
    "    with torch.no_grad():\n",
    "        output_tensor = model(input_tensor)  # (1, 3, 64, 128)\n",
    "\n",
    "    # Convert to NumPy: (1,3,64,128) → (64,128,3)\n",
    "    output_np = output_tensor.cpu().numpy().squeeze(0).transpose(1, 2, 0)\n",
    "\n",
    "    return output_np"
   ]
  },
  {
   "cell_type": "code",
   "execution_count": null,
   "id": "cb3431c1",
   "metadata": {
    "vscode": {
     "languageId": "plaintext"
    }
   },
   "outputs": [],
   "source": [
    "model = FluidForceCNN()\n",
    "model.load_state_dict(torch.load(\"./models/best_model.pth\"))\n",
    "model.eval()"
   ]
  }
 ],
 "metadata": {
  "language_info": {
   "name": "python"
  }
 },
 "nbformat": 4,
 "nbformat_minor": 5
}
